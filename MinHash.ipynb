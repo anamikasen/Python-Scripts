{
 "cells": [
  {
   "cell_type": "code",
   "execution_count": 130,
   "metadata": {},
   "outputs": [
    {
     "name": "stdout",
     "output_type": "stream",
     "text": [
      "Requirement already satisfied: biopython in /home/anamikas/anaconda3/envs/Plinko/lib/python2.7/site-packages (1.68)\r\n"
     ]
    }
   ],
   "source": [
    "import os\n",
    "! pip install --user biopython\n",
    "import warnings \n",
    "import numpy as np\n",
    "from scipy import stats\n",
    "import pandas as pd\n",
    "import random\n",
    "import binascii\n",
    "import sys"
   ]
  },
  {
   "cell_type": "code",
   "execution_count": 31,
   "metadata": {},
   "outputs": [],
   "source": [
    "filelist = ([name for name in os.listdir('.') if name.endswith(\"fna\")])"
   ]
  },
  {
   "cell_type": "code",
   "execution_count": 32,
   "metadata": {},
   "outputs": [],
   "source": [
    "from Bio import SeqIO\n",
    "recordsLen = {}\n",
    "for file in filelist:\n",
    "    eachFileRecords = 0\n",
    "    for record in SeqIO.parse(file, \"fasta\"):\n",
    "        eachFileRecords+=1\n",
    "    recordsLen[file] = eachFileRecords\n",
    "    "
   ]
  },
  {
   "cell_type": "code",
   "execution_count": 33,
   "metadata": {},
   "outputs": [
    {
     "name": "stdout",
     "output_type": "stream",
     "text": [
      "1000589.fna 231\n",
      "1029822.fna 4\n",
      "1034809.fna 1\n",
      "1035184.fna 66\n",
      "1036673.fna 1\n",
      "1037411.fna 5\n",
      "1041521.fna 11\n",
      "1048332.fna 1\n",
      "1050107.fna 1\n",
      "1051072.fna 1\n",
      "1051074.fna 1\n",
      "1051653.fna 167\n",
      "1051657.fna 78\n",
      "1052684.fna 2\n",
      "1053174.fna 15\n",
      "1053215.fna 51\n",
      "1053233.fna 23\n",
      "1071400.fna 4\n",
      "1073372.fna 6\n",
      "1074494.fna 6\n",
      "1095729.fna 83\n",
      "1114965.fna 1\n",
      "1116220.fna 125\n",
      "1116391.fna 1\n",
      "1121088.fna 1\n",
      "1126211.fna 1\n",
      "1131732.fna 69\n",
      "1138890.fna 25\n",
      "1138915.fna 34\n",
      "1151189.fna 14\n",
      "1154776.fna 103\n",
      "1154861.fna 85\n",
      "1154876.fna 86\n",
      "1154879.fna 86\n",
      "1155131.fna 73\n",
      "1157358.fna 18\n",
      "1157475.fna 46\n",
      "1163301.fna 52\n",
      "119602.fna 41\n",
      "1198291.fna 18\n",
      "1200793.fna 7\n",
      "1214192.fna 139\n",
      "1214210.fna 141\n",
      "1214218.fna 136\n",
      "1215914.fna 2\n",
      "1225186.fna 58\n",
      "1225194.fna 63\n",
      "1225196.fna 44\n",
      "1225205.fna 49\n",
      "1226335.fna 203\n",
      "1226678.fna 22\n",
      "1226679.fna 21\n",
      "1230477.fna 104\n",
      "1232672.fna 152\n",
      "1236548.fna 24\n",
      "1245026.fna 232\n",
      "1248420.fna 48\n",
      "1258574.fna 1\n",
      "1260356.fna 95\n",
      "1266717.fna 1\n",
      "1269760.fna 16\n",
      "1273133.fna 89\n",
      "1298921.fna 116\n",
      "1300223.fna 24\n",
      "1304.fna 1\n",
      "1304889.fna 7\n",
      "1308.fna 1\n",
      "1312920.fna 2\n",
      "1314.fna 39\n",
      "1315975.fna 146\n",
      "1316583.fna 10\n",
      "1318.fna 114\n",
      "1318635.fna 2\n",
      "1323698.fna 125\n",
      "1324966.fna 143\n",
      "1327988.fna 11\n",
      "1333538.fna 1\n",
      "1333862.fna 541\n",
      "1333863.fna 241\n",
      "1344987.fna 95\n",
      "1344989.fna 91\n",
      "1348623.fna 78\n",
      "1348908.fna 140\n",
      "1350466.fna 102\n",
      "1350467.fna 38\n",
      "1353243.fna 1\n",
      "1358027.fna 1\n",
      "1368424.fna 50\n",
      "1381085.fna 100\n",
      "1381124.fna 2\n",
      "1382301.fna 51\n",
      "1384064.fna 9\n",
      "1390082.fna 158\n",
      "1390372.fna 59\n",
      "1391465.fna 36\n",
      "1391469.fna 23\n",
      "1398.fna 1\n",
      "1402.fna 99\n",
      "1404.fna 54\n",
      "1408186.fna 1\n",
      "1409679.fna 47\n",
      "1412842.fna 3\n",
      "1422305.fna 26\n",
      "1423723.fna 116\n",
      "1423728.fna 90\n",
      "1429244.fna 1\n",
      "1433289.fna 14\n",
      "1436725.fna 16\n",
      "1457191.fna 83\n",
      "1579.fna 70\n",
      "1580.fna 181\n",
      "1587.fna 1\n",
      "1598.fna 291\n",
      "1604.fna 3\n",
      "160490.fna 1\n",
      "1624.fna 107\n",
      "171101.fna 1\n",
      "176280.fna 7\n",
      "180862.fna 148\n",
      "198094.fna 1\n",
      "208435.fna 1\n",
      "210007.fna 1\n",
      "212045.fna 44\n",
      "220668.fna 4\n",
      "224308.fna 1\n",
      "226185.fna 4\n",
      "226900.fna 2\n",
      "257314.fna 1\n",
      "260799.fna 1\n",
      "272621.fna 1\n",
      "279010.fna 1\n",
      "281309.fna 2\n",
      "283734.fna 73\n",
      "29397.fna 5\n",
      "322159.fna 3\n",
      "326425.fna 1\n",
      "333849.fna 4\n",
      "334390.fna 1\n",
      "33959.fna 49\n",
      "345219.fna 1\n",
      "347253.fna 1\n",
      "349123.fna 2\n",
      "362948.fna 4\n",
      "370552.fna 22\n",
      "370554.fna 1\n",
      "387344.fna 3\n",
      "390333.fna 1\n",
      "40041.fna 1\n",
      "452436.fna 59\n",
      "453362.fna 53\n",
      "453365.fna 33\n",
      "453366.fna 126\n",
      "487214.fna 1\n",
      "491077.fna 5\n",
      "511437.fna 4\n",
      "525306.fna 38\n",
      "525310.fna 106\n",
      "525318.fna 104\n",
      "525361.fna 55\n",
      "529122.fna 7\n",
      "53354.fna 30\n",
      "545693.fna 8\n",
      "553482.fna 1\n",
      "557436.fna 1\n",
      "565143.fna 123\n",
      "568206.fna 3\n",
      "568703.fna 1\n",
      "568704.fna 2\n",
      "568814.fna 2\n",
      "575599.fna 42\n",
      "637909.fna 1\n",
      "663951.fna 3\n",
      "663954.fna 1\n",
      "681573.fna 11\n",
      "692420.fna 1\n",
      "695560.fna 3\n",
      "695562.fna 3\n",
      "695563.fna 162\n",
      "696216.fna 1\n",
      "698737.fna 1\n",
      "706437.fna 63\n",
      "712938.fna 1\n",
      "718222.fna 37\n",
      "759913.fna 1\n",
      "760570.fna 1\n",
      "767453.fna 1\n",
      "767455.fna 2\n",
      "767462.fna 2\n",
      "76860.fna 124\n",
      "79672.fna 295\n",
      "857292.fna 11\n",
      "862966.fna 1\n",
      "862967.fna 1\n",
      "862968.fna 1\n",
      "862969.fna 1\n",
      "862971.fna 1\n",
      "880633.fna 1\n",
      "883164.fna 4\n",
      "886882.fna 2\n",
      "888048.fna 14\n",
      "904354.fna 28\n",
      "909954.fna 1\n",
      "93061.fna 1\n",
      "931437.fna 20\n",
      "937773.fna 1\n",
      "979222.fna 130\n",
      "981539.fna 1\n",
      "984892.fna 1\n",
      "990317.fna 2\n",
      "997761.fna 1\n"
     ]
    }
   ],
   "source": [
    "for k, v in recordsLen.items():\n",
    "    print(k,v)"
   ]
  },
  {
   "cell_type": "code",
   "execution_count": 34,
   "metadata": {},
   "outputs": [],
   "source": [
    "vals = np.fromiter(recordsLen.values(), dtype=int)"
   ]
  },
  {
   "cell_type": "code",
   "execution_count": 35,
   "metadata": {},
   "outputs": [
    {
     "data": {
      "text/plain": [
       "DescribeResult(nobs=210, minmax=(1, 541), mean=43.714285714285715, variance=4573.726589200274, skewness=3.0027716770454442, kurtosis=14.488509647273041)"
      ]
     },
     "execution_count": 35,
     "metadata": {},
     "output_type": "execute_result"
    }
   ],
   "source": [
    "stats.describe(vals)"
   ]
  },
  {
   "cell_type": "code",
   "execution_count": 76,
   "metadata": {},
   "outputs": [],
   "source": [
    "def count_kmers(seq, k):\n",
    "    counts = {}\n",
    "    set_kmers = set([])\n",
    "    num_kmers = len(seq)-k+1\n",
    "    for i in range(num_kmers):\n",
    "        kmer = seq[i:i+k]\n",
    "        if kmer not in counts:\n",
    "            counts[kmer] = 0\n",
    "        counts[kmer] += 1\n",
    "        set_kmers.add(kmer)\n",
    "    return set_kmers"
   ]
  },
  {
   "cell_type": "code",
   "execution_count": 94,
   "metadata": {},
   "outputs": [
    {
     "name": "stderr",
     "output_type": "stream",
     "text": [
      "/home/anamikas/.local/lib/python3.6/site-packages/Bio/Seq.py:163: BiopythonWarning: Biopython Seq objects now use string comparison. Older versions of Biopython used object comparison. During this transition, please use hash(id(my_seq)) or my_dict[id(my_seq)] if you want the old behaviour, or use hash(str(my_seq)) or my_dict[str(my_seq)] for the new string hashing behaviour.\n",
      "  \"the new string hashing behaviour.\", BiopythonWarning)\n"
     ]
    }
   ],
   "source": [
    "list_kmers = []\n",
    "sequences = []\n",
    "for record in SeqIO.parse('1041521.fna', \"fasta\"):\n",
    "    sequences.append(record.seq)\n",
    "for sequence in sequences:\n",
    "    list_kmers.extend(count_kmers(sequence, 21))"
   ]
  },
  {
   "cell_type": "code",
   "execution_count": 71,
   "metadata": {},
   "outputs": [],
   "source": [
    "sample_300 = random.sample(list_kmers, 300)"
   ]
  },
  {
   "cell_type": "code",
   "execution_count": 139,
   "metadata": {
    "scrolled": true
   },
   "outputs": [],
   "source": [
    "'''\n",
    "generate a pseudo random matrix of n-1 numbers\n",
    "which is to be kept constant throughout\n",
    "\n",
    "'''\n",
    "pseudorandom_matrix = []\n",
    "for i in range(299):\n",
    "    pseudorandom_matrix.append(random.randint(1, 2**32 -1))"
   ]
  },
  {
   "cell_type": "code",
   "execution_count": 113,
   "metadata": {},
   "outputs": [],
   "source": [
    "def convert_hash(list_kmers, n):\n",
    "    '''\n",
    "    takes a list of genomes, randomly selects 'n' number of samples to represent the k-mer document \n",
    "    (genomes file --> list_kmers)\n",
    "    and returns a list of 32-bit hashed integer to represent the k-mers\n",
    "    \n",
    "    '''\n",
    "    sample_n = []\n",
    "    kmer_hash = []\n",
    "    min_hash = []\n",
    "    sample_n = random.sample(list_kmers, n)\n",
    "    kmer_hash = [binascii.crc32(str.encode(str(item))) & 0xffffffff for item in sample_n]\n",
    "    min_hash.append(min(kmer_hash))\n",
    "    \n",
    "    \n",
    "    \n",
    "    for i in range(n-1):\n",
    "        \n",
    "        "
   ]
  },
  {
   "cell_type": "code",
   "execution_count": null,
   "metadata": {},
   "outputs": [],
   "source": []
  },
  {
   "cell_type": "code",
   "execution_count": null,
   "metadata": {},
   "outputs": [],
   "source": []
  },
  {
   "cell_type": "code",
   "execution_count": null,
   "metadata": {},
   "outputs": [],
   "source": []
  },
  {
   "cell_type": "code",
   "execution_count": null,
   "metadata": {},
   "outputs": [],
   "source": []
  },
  {
   "cell_type": "code",
   "execution_count": null,
   "metadata": {},
   "outputs": [],
   "source": []
  },
  {
   "cell_type": "code",
   "execution_count": null,
   "metadata": {},
   "outputs": [],
   "source": []
  },
  {
   "cell_type": "code",
   "execution_count": null,
   "metadata": {},
   "outputs": [],
   "source": []
  },
  {
   "cell_type": "code",
   "execution_count": null,
   "metadata": {},
   "outputs": [],
   "source": []
  },
  {
   "cell_type": "code",
   "execution_count": null,
   "metadata": {},
   "outputs": [],
   "source": []
  },
  {
   "cell_type": "code",
   "execution_count": null,
   "metadata": {},
   "outputs": [],
   "source": []
  },
  {
   "cell_type": "code",
   "execution_count": null,
   "metadata": {},
   "outputs": [],
   "source": []
  },
  {
   "cell_type": "code",
   "execution_count": null,
   "metadata": {},
   "outputs": [],
   "source": []
  },
  {
   "cell_type": "code",
   "execution_count": null,
   "metadata": {},
   "outputs": [],
   "source": []
  },
  {
   "cell_type": "code",
   "execution_count": null,
   "metadata": {},
   "outputs": [],
   "source": []
  },
  {
   "cell_type": "code",
   "execution_count": null,
   "metadata": {},
   "outputs": [],
   "source": []
  },
  {
   "cell_type": "code",
   "execution_count": null,
   "metadata": {},
   "outputs": [],
   "source": []
  },
  {
   "cell_type": "code",
   "execution_count": null,
   "metadata": {},
   "outputs": [],
   "source": []
  },
  {
   "cell_type": "code",
   "execution_count": null,
   "metadata": {},
   "outputs": [],
   "source": []
  },
  {
   "cell_type": "code",
   "execution_count": null,
   "metadata": {},
   "outputs": [],
   "source": []
  },
  {
   "cell_type": "code",
   "execution_count": null,
   "metadata": {},
   "outputs": [],
   "source": []
  },
  {
   "cell_type": "code",
   "execution_count": null,
   "metadata": {},
   "outputs": [],
   "source": []
  },
  {
   "cell_type": "code",
   "execution_count": null,
   "metadata": {},
   "outputs": [],
   "source": []
  },
  {
   "cell_type": "code",
   "execution_count": null,
   "metadata": {},
   "outputs": [],
   "source": []
  },
  {
   "cell_type": "code",
   "execution_count": null,
   "metadata": {},
   "outputs": [],
   "source": []
  },
  {
   "cell_type": "code",
   "execution_count": null,
   "metadata": {},
   "outputs": [],
   "source": []
  },
  {
   "cell_type": "code",
   "execution_count": null,
   "metadata": {},
   "outputs": [],
   "source": []
  },
  {
   "cell_type": "code",
   "execution_count": null,
   "metadata": {},
   "outputs": [],
   "source": []
  },
  {
   "cell_type": "code",
   "execution_count": null,
   "metadata": {},
   "outputs": [],
   "source": []
  },
  {
   "cell_type": "code",
   "execution_count": null,
   "metadata": {},
   "outputs": [],
   "source": []
  },
  {
   "cell_type": "code",
   "execution_count": null,
   "metadata": {},
   "outputs": [],
   "source": []
  },
  {
   "cell_type": "code",
   "execution_count": null,
   "metadata": {
    "collapsed": true
   },
   "outputs": [],
   "source": []
  },
  {
   "cell_type": "code",
   "execution_count": null,
   "metadata": {
    "collapsed": true
   },
   "outputs": [],
   "source": []
  },
  {
   "cell_type": "code",
   "execution_count": null,
   "metadata": {
    "collapsed": true
   },
   "outputs": [],
   "source": []
  },
  {
   "cell_type": "code",
   "execution_count": null,
   "metadata": {
    "collapsed": true
   },
   "outputs": [],
   "source": []
  },
  {
   "cell_type": "code",
   "execution_count": null,
   "metadata": {
    "collapsed": true
   },
   "outputs": [],
   "source": []
  },
  {
   "cell_type": "code",
   "execution_count": null,
   "metadata": {
    "collapsed": true
   },
   "outputs": [],
   "source": []
  },
  {
   "cell_type": "code",
   "execution_count": null,
   "metadata": {
    "collapsed": true
   },
   "outputs": [],
   "source": []
  }
 ],
 "metadata": {
  "kernelspec": {
   "display_name": "Python 3",
   "language": "python",
   "name": "python3"
  },
  "language_info": {
   "codemirror_mode": {
    "name": "ipython",
    "version": 3
   },
   "file_extension": ".py",
   "mimetype": "text/x-python",
   "name": "python",
   "nbconvert_exporter": "python",
   "pygments_lexer": "ipython3",
   "version": "3.6.5"
  }
 },
 "nbformat": 4,
 "nbformat_minor": 2
}
